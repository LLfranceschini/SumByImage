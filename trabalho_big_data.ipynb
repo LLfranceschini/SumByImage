{
  "cells": [
    {
      "cell_type": "markdown",
      "metadata": {
        "id": "6p8csPi51I0l"
      },
      "source": [
        "# Comandos para realização do trabalho da matéria de Big Data com uso da biblioteca PySpark.\n",
        "\n",
        "Este notebook foi projetado para guiar os alunos na realização das práticas de Big Data utilizando PySpark. Certifique-se de seguir cada etapa cuidadosamente para garantir a correta execução das atividades.\n",
        "\n",
        "Seu trabalho começará na célula 5. Execute as 4 primeiras células para iniciar a atividade.\n",
        "\n",
        "## <font color=red>Observação importante:</font>\n",
        "\n",
        "<font color=yellow>Trabalho realizado com uso da biblioteca pandas não será aceito!</font>"
      ]
    },
    {
      "cell_type": "markdown",
      "metadata": {
        "id": "sl4B9mqn1I0l"
      },
      "source": [
        "## Upload do arquivo `imdb-reviews-pt-br.csv` para dentro do Google Colab\n",
        "\n",
        "Aqui, você fará o download do dataset necessário para as atividades. Certifique-se de que o arquivo foi descompactado corretamente antes de prosseguir."
      ]
    },
    {
      "cell_type": "code",
      "execution_count": 2,
      "metadata": {
        "colab": {
          "base_uri": "https://localhost:8080/"
        },
        "id": "yr5A_4S11I0m",
        "outputId": "7833fb4c-d9b3-4862-9996-29b8d28d4ae1"
      },
      "outputs": [
        {
          "output_type": "stream",
          "name": "stdout",
          "text": [
            "--2025-10-16 11:44:24--  https://raw.githubusercontent.com/N-CPUninter/Big_Data/main/data/imdb-reviews-pt-br.zip\n",
            "Resolving raw.githubusercontent.com (raw.githubusercontent.com)... 185.199.108.133, 185.199.109.133, 185.199.110.133, ...\n",
            "Connecting to raw.githubusercontent.com (raw.githubusercontent.com)|185.199.108.133|:443... connected.\n",
            "HTTP request sent, awaiting response... 200 OK\n",
            "Length: 49549692 (47M) [application/zip]\n",
            "Saving to: ‘imdb-reviews-pt-br.zip’\n",
            "\n",
            "imdb-reviews-pt-br. 100%[===================>]  47.25M  --.-KB/s    in 0.1s    \n",
            "\n",
            "2025-10-16 11:44:26 (330 MB/s) - ‘imdb-reviews-pt-br.zip’ saved [49549692/49549692]\n",
            "\n",
            "Archive:  imdb-reviews-pt-br.zip\n",
            "  inflating: imdb-reviews-pt-br.csv  \n"
          ]
        }
      ],
      "source": [
        "!wget https://raw.githubusercontent.com/N-CPUninter/Big_Data/main/data/imdb-reviews-pt-br.zip -O imdb-reviews-pt-br.zip\n",
        "!unzip imdb-reviews-pt-br.zip\n",
        "!rm imdb-reviews-pt-br.zip"
      ]
    },
    {
      "cell_type": "markdown",
      "metadata": {
        "id": "u3tohDLl1I0m"
      },
      "source": [
        "## Instalação manual das dependências para uso do pyspark no Google Colab\n",
        "\n",
        "Esta etapa garante que todas as bibliotecas necessárias para o PySpark sejam instaladas no Google Colab."
      ]
    },
    {
      "cell_type": "code",
      "execution_count": 3,
      "metadata": {
        "colab": {
          "base_uri": "https://localhost:8080/"
        },
        "id": "F9O_ew5L1I0m",
        "outputId": "016763ba-a6b4-4940-8ae4-39c15a7b789c"
      },
      "outputs": [
        {
          "output_type": "stream",
          "name": "stdout",
          "text": [
            "Requirement already satisfied: pyspark in /usr/local/lib/python3.12/dist-packages (3.5.1)\n",
            "Requirement already satisfied: py4j==0.10.9.7 in /usr/local/lib/python3.12/dist-packages (from pyspark) (0.10.9.7)\n"
          ]
        }
      ],
      "source": [
        "!pip install pyspark"
      ]
    },
    {
      "cell_type": "markdown",
      "metadata": {
        "id": "5HebHwQN1I0m"
      },
      "source": [
        "## Importar, instanciar e criar a SparkSession\n",
        "\n",
        "A SparkSession é o ponto de entrada para usar o PySpark. Certifique-se de configurar corretamente o nome do aplicativo e o master."
      ]
    },
    {
      "cell_type": "code",
      "execution_count": 4,
      "metadata": {
        "id": "FB83frGd1I0n"
      },
      "outputs": [],
      "source": [
        "from pyspark.sql import SparkSession\n",
        "\n",
        "appName = \"PySpark Trabalho de Big Data\"\n",
        "master = \"local\"\n",
        "\n",
        "spark = SparkSession.builder.appName(appName).master(master).getOrCreate()"
      ]
    },
    {
      "cell_type": "markdown",
      "metadata": {
        "id": "JoX17mhr1I0n"
      },
      "source": [
        "## Criar spark dataframe do CSV utilizando o método read.csv do spark\n",
        "\n",
        "Não altere este código e use o dataframe imdb_df criado aqui em todo o seu trabalho. A criação de um dataframe diferente deste poderá causar erros na coluna sentiment e isso refletirá em erros de resposta das questões."
      ]
    },
    {
      "cell_type": "code",
      "execution_count": 5,
      "metadata": {
        "id": "T_zQ0Clk1I0n"
      },
      "outputs": [],
      "source": [
        "imdb_df = spark.read.csv('imdb-reviews-pt-br.csv',\n",
        "                         header=True,\n",
        "                         quote=\"\\\"\",\n",
        "                         escape=\"\\\"\",\n",
        "                         encoding=\"UTF-8\")"
      ]
    },
    {
      "cell_type": "markdown",
      "metadata": {
        "id": "ySyPC9JT1I0o"
      },
      "source": [
        "# Questão 2:\n",
        "\n",
        "Nesta questão, você irá calcular a diferença no número total de palavras entre textos negativos em português e inglês.\n",
        "\n",
        "### Objetivo:\n",
        "- Contar as palavras em cada idioma (colunas 'text_pt' e 'text_en') para entradas onde o sentimento ('sentiment') é 'neg'.\n",
        "- Subtrair o total de palavras em inglês do total em português."
      ]
    },
    {
      "cell_type": "code",
      "source": [
        "# 1. Mapeamento: conta palavras em cada idioma\n",
        "def map2(row):\n",
        "    qtde_en = len(row.text_en.split())\n",
        "    qtde_pt = len(row.text_pt.split())\n",
        "    return (row.sentiment, (qtde_en, qtde_pt))\n",
        "\n",
        "# 2. Redução: soma os totais de en e pt separadamente\n",
        "def reduceByKey2(a, b):\n",
        "    return (a[0] + b[0], a[1] + b[1])\n",
        "\n",
        "# 3. Filtra apenas ‘neg’ e executa MapReduce\n",
        "neg_totals = (\n",
        "    imdb_df\n",
        "      .filter(\"sentiment = 'neg'\")\n",
        "      .rdd\n",
        "      .map(map2)\n",
        "      .reduceByKey(reduceByKey2)\n",
        "      .collect()\n",
        ")\n",
        "\n",
        "# 4. Calcula a diferença en – pt fora do reduce\n",
        "sent, (total_en, total_pt) = neg_totals[0]\n",
        "diferenca_neg = total_en - total_pt\n",
        "\n",
        "print(f\"diferença de palavras (en – pt) em 'neg': {diferenca_neg}\")\n",
        "print(\"RU: 4871164\")\n"
      ],
      "metadata": {
        "colab": {
          "base_uri": "https://localhost:8080/"
        },
        "id": "oeCjAv361Ku4",
        "outputId": "9db6edc3-b794-4d08-c060-2bf40f2c2e0a"
      },
      "execution_count": 20,
      "outputs": [
        {
          "output_type": "stream",
          "name": "stdout",
          "text": [
            "diferença de palavras (en – pt) em 'neg': -54949\n",
            "RU: 4871164\n"
          ]
        }
      ]
    },
    {
      "cell_type": "code",
      "source": [
        "from pyspark.sql.functions import split, size, sum as _sum\n",
        "\n",
        "# 1. Filtra apenas resenhas negativas\n",
        "df_neg = imdb_df.filter(\"sentiment = 'neg'\")\n",
        "\n",
        "# 2. Somas de palavras por idioma\n",
        "soma_pt = _sum(size(split(\"text_pt\", \" \")))\n",
        "soma_en = _sum(size(split(\"text_en\", \" \")))\n",
        "\n",
        "# 3. Calcula a diferença pt – en\n",
        "df_diff = df_neg.select((soma_pt - soma_en).alias(\"diff_pt_en\"))\n",
        "\n",
        "# 4. Exibe o resultado\n",
        "df_diff.show()\n"
      ],
      "metadata": {
        "id": "p1cfzg6uDSko",
        "outputId": "9148949e-2dd2-448a-d7a5-d8da2cc4a561",
        "colab": {
          "base_uri": "https://localhost:8080/"
        }
      },
      "execution_count": 19,
      "outputs": [
        {
          "output_type": "stream",
          "name": "stdout",
          "text": [
            "+----------+\n",
            "|diff_pt_en|\n",
            "+----------+\n",
            "|     54036|\n",
            "+----------+\n",
            "\n"
          ]
        }
      ]
    }
  ],
  "metadata": {
    "language_info": {
      "name": "python"
    },
    "orig_nbformat": 4,
    "colab": {
      "provenance": []
    },
    "kernelspec": {
      "name": "python3",
      "display_name": "Python 3"
    }
  },
  "nbformat": 4,
  "nbformat_minor": 0
}